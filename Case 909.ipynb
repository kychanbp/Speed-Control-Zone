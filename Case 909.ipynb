{
 "cells": [
  {
   "cell_type": "markdown",
   "metadata": {},
   "source": [
    "# Case 909\n",
    "There was a deviation from the SCZ. The captain claimed that it was due to giving way to three vessels entering the SCZ. Therefore, AIS data needs to be checked.\n",
    "\n",
    "the first step is to filter the relevant time period. Then filter the relevant area of concern (within SCZ). After that we can plot the data to see if there were three vessels entered the SCZ and had potential to intercept with deviated vessel."
   ]
  },
  {
   "cell_type": "markdown",
   "metadata": {},
   "source": [
    "## Preliminary Data Cleaning"
   ]
  },
  {
   "cell_type": "code",
   "execution_count": 1,
   "metadata": {
    "collapsed": true
   },
   "outputs": [],
   "source": [
    "import pandas as pd\n",
    "import matplotlib.pyplot as plt"
   ]
  },
  {
   "cell_type": "code",
   "execution_count": 2,
   "metadata": {
    "collapsed": true
   },
   "outputs": [],
   "source": [
    "#import csv file to a dataframe\n",
    "AIS = pd.read_csv(\"P:/Hong Kong/ENL/PROJECTS/355482 HKIA 3RS ET Services/09 Env Monitoring/02 Impact Data/06 High Speed Ferry/201710/Form B/909/AIS.CSV\")"
   ]
  },
  {
   "cell_type": "code",
   "execution_count": 3,
   "metadata": {},
   "outputs": [
    {
     "data": {
      "text/html": [
       "<div>\n",
       "<style>\n",
       "    .dataframe thead tr:only-child th {\n",
       "        text-align: right;\n",
       "    }\n",
       "\n",
       "    .dataframe thead th {\n",
       "        text-align: left;\n",
       "    }\n",
       "\n",
       "    .dataframe tbody tr th {\n",
       "        vertical-align: top;\n",
       "    }\n",
       "</style>\n",
       "<table border=\"1\" class=\"dataframe\">\n",
       "  <thead>\n",
       "    <tr style=\"text-align: right;\">\n",
       "      <th></th>\n",
       "      <th>date</th>\n",
       "      <th>MMSI</th>\n",
       "      <th>name</th>\n",
       "      <th>hdg</th>\n",
       "      <th>lng</th>\n",
       "      <th>lat</th>\n",
       "      <th>sog</th>\n",
       "      <th>cog</th>\n",
       "    </tr>\n",
       "  </thead>\n",
       "  <tbody>\n",
       "    <tr>\n",
       "      <th>0</th>\n",
       "      <td>2017-10-09T16:00:03.0Z</td>\n",
       "      <td>413906109</td>\n",
       "      <td>YUEGUANGZHOUHUO1332</td>\n",
       "      <td>NaN</td>\n",
       "      <td>113.936560</td>\n",
       "      <td>22.341923</td>\n",
       "      <td>0.0</td>\n",
       "      <td>NaN</td>\n",
       "    </tr>\n",
       "    <tr>\n",
       "      <th>1</th>\n",
       "      <td>2017-10-09T16:00:03.0Z</td>\n",
       "      <td>477995877</td>\n",
       "      <td>H.K. UNITED 18</td>\n",
       "      <td>NaN</td>\n",
       "      <td>113.880400</td>\n",
       "      <td>22.319182</td>\n",
       "      <td>0.1</td>\n",
       "      <td>NaN</td>\n",
       "    </tr>\n",
       "    <tr>\n",
       "      <th>2</th>\n",
       "      <td>2017-10-09T16:00:04.0Z</td>\n",
       "      <td>477995781</td>\n",
       "      <td>SAMBO DCM 2HO</td>\n",
       "      <td>NaN</td>\n",
       "      <td>113.908147</td>\n",
       "      <td>22.328537</td>\n",
       "      <td>0.0</td>\n",
       "      <td>NaN</td>\n",
       "    </tr>\n",
       "    <tr>\n",
       "      <th>3</th>\n",
       "      <td>2017-10-09T16:00:04.0Z</td>\n",
       "      <td>477995899</td>\n",
       "      <td>KAT YUE 8</td>\n",
       "      <td>NaN</td>\n",
       "      <td>113.898173</td>\n",
       "      <td>22.314840</td>\n",
       "      <td>0.0</td>\n",
       "      <td>NaN</td>\n",
       "    </tr>\n",
       "    <tr>\n",
       "      <th>4</th>\n",
       "      <td>2017-10-09T16:00:04.0Z</td>\n",
       "      <td>477995402</td>\n",
       "      <td>WING HOP LEE NO 12</td>\n",
       "      <td>NaN</td>\n",
       "      <td>113.878747</td>\n",
       "      <td>22.322318</td>\n",
       "      <td>0.1</td>\n",
       "      <td>NaN</td>\n",
       "    </tr>\n",
       "  </tbody>\n",
       "</table>\n",
       "</div>"
      ],
      "text/plain": [
       "                     date       MMSI                  name  hdg         lng  \\\n",
       "0  2017-10-09T16:00:03.0Z  413906109  YUEGUANGZHOUHUO1332   NaN  113.936560   \n",
       "1  2017-10-09T16:00:03.0Z  477995877  H.K. UNITED 18        NaN  113.880400   \n",
       "2  2017-10-09T16:00:04.0Z  477995781  SAMBO DCM 2HO         NaN  113.908147   \n",
       "3  2017-10-09T16:00:04.0Z  477995899             KAT YUE 8  NaN  113.898173   \n",
       "4  2017-10-09T16:00:04.0Z  477995402  WING HOP LEE NO 12    NaN  113.878747   \n",
       "\n",
       "         lat  sog  cog  \n",
       "0  22.341923  0.0  NaN  \n",
       "1  22.319182  0.1  NaN  \n",
       "2  22.328537  0.0  NaN  \n",
       "3  22.314840  0.0  NaN  \n",
       "4  22.322318  0.1  NaN  "
      ]
     },
     "execution_count": 3,
     "metadata": {},
     "output_type": "execute_result"
    }
   ],
   "source": [
    "#have an idea on the file\n",
    "AIS.head()"
   ]
  },
  {
   "cell_type": "code",
   "execution_count": 4,
   "metadata": {
    "collapsed": true
   },
   "outputs": [],
   "source": [
    "#filter rows with name = \"SHOPPES COTAICENTRAL\" in order to get the relevant range of time\n",
    "SHOPPES_COTAICENTRAL = AIS[AIS['name']== \"SHOPPES COTAICENTRAL\"]"
   ]
  },
  {
   "cell_type": "code",
   "execution_count": 5,
   "metadata": {
    "scrolled": true
   },
   "outputs": [
    {
     "data": {
      "text/html": [
       "<div>\n",
       "<style>\n",
       "    .dataframe thead tr:only-child th {\n",
       "        text-align: right;\n",
       "    }\n",
       "\n",
       "    .dataframe thead th {\n",
       "        text-align: left;\n",
       "    }\n",
       "\n",
       "    .dataframe tbody tr th {\n",
       "        vertical-align: top;\n",
       "    }\n",
       "</style>\n",
       "<table border=\"1\" class=\"dataframe\">\n",
       "  <thead>\n",
       "    <tr style=\"text-align: right;\">\n",
       "      <th></th>\n",
       "      <th>date</th>\n",
       "      <th>MMSI</th>\n",
       "      <th>name</th>\n",
       "      <th>hdg</th>\n",
       "      <th>lng</th>\n",
       "      <th>lat</th>\n",
       "      <th>sog</th>\n",
       "      <th>cog</th>\n",
       "    </tr>\n",
       "  </thead>\n",
       "  <tbody>\n",
       "    <tr>\n",
       "      <th>13413</th>\n",
       "      <td>2017-10-09T16:39:49.0Z</td>\n",
       "      <td>477937500</td>\n",
       "      <td>SHOPPES COTAICENTRAL</td>\n",
       "      <td>57.0</td>\n",
       "      <td>NaN</td>\n",
       "      <td>NaN</td>\n",
       "      <td>38.599998</td>\n",
       "      <td>57.500000</td>\n",
       "    </tr>\n",
       "    <tr>\n",
       "      <th>172438</th>\n",
       "      <td>2017-10-10T00:52:29.0Z</td>\n",
       "      <td>477937500</td>\n",
       "      <td>SHOPPES COTAICENTRAL</td>\n",
       "      <td>239.0</td>\n",
       "      <td>NaN</td>\n",
       "      <td>NaN</td>\n",
       "      <td>33.599998</td>\n",
       "      <td>243.100006</td>\n",
       "    </tr>\n",
       "    <tr>\n",
       "      <th>172657</th>\n",
       "      <td>2017-10-10T00:53:16.0Z</td>\n",
       "      <td>477937500</td>\n",
       "      <td>SHOPPES COTAICENTRAL</td>\n",
       "      <td>225.0</td>\n",
       "      <td>NaN</td>\n",
       "      <td>NaN</td>\n",
       "      <td>37.400002</td>\n",
       "      <td>226.800003</td>\n",
       "    </tr>\n",
       "    <tr>\n",
       "      <th>214578</th>\n",
       "      <td>2017-10-10T03:10:19.0Z</td>\n",
       "      <td>477937500</td>\n",
       "      <td>SHOPPES COTAICENTRAL</td>\n",
       "      <td>81.0</td>\n",
       "      <td>NaN</td>\n",
       "      <td>NaN</td>\n",
       "      <td>80.500000</td>\n",
       "      <td>79.599998</td>\n",
       "    </tr>\n",
       "    <tr>\n",
       "      <th>214630</th>\n",
       "      <td>2017-10-10T03:10:25.0Z</td>\n",
       "      <td>477937500</td>\n",
       "      <td>SHOPPES COTAICENTRAL</td>\n",
       "      <td>81.0</td>\n",
       "      <td>NaN</td>\n",
       "      <td>NaN</td>\n",
       "      <td>33.500000</td>\n",
       "      <td>81.000000</td>\n",
       "    </tr>\n",
       "  </tbody>\n",
       "</table>\n",
       "</div>"
      ],
      "text/plain": [
       "                          date       MMSI                  name    hdg  lng  \\\n",
       "13413   2017-10-09T16:39:49.0Z  477937500  SHOPPES COTAICENTRAL   57.0  NaN   \n",
       "172438  2017-10-10T00:52:29.0Z  477937500  SHOPPES COTAICENTRAL  239.0  NaN   \n",
       "172657  2017-10-10T00:53:16.0Z  477937500  SHOPPES COTAICENTRAL  225.0  NaN   \n",
       "214578  2017-10-10T03:10:19.0Z  477937500  SHOPPES COTAICENTRAL   81.0  NaN   \n",
       "214630  2017-10-10T03:10:25.0Z  477937500  SHOPPES COTAICENTRAL   81.0  NaN   \n",
       "\n",
       "        lat        sog         cog  \n",
       "13413   NaN  38.599998   57.500000  \n",
       "172438  NaN  33.599998  243.100006  \n",
       "172657  NaN  37.400002  226.800003  \n",
       "214578  NaN  80.500000   79.599998  \n",
       "214630  NaN  33.500000   81.000000  "
      ]
     },
     "execution_count": 5,
     "metadata": {},
     "output_type": "execute_result"
    }
   ],
   "source": [
    "#look at the data\n",
    "SHOPPES_COTAICENTRAL.head()"
   ]
  },
  {
   "cell_type": "code",
   "execution_count": 6,
   "metadata": {
    "collapsed": true
   },
   "outputs": [],
   "source": [
    "#drop rows with no lat value\n",
    "SHOPPES_COTAICENTRAL = SHOPPES_COTAICENTRAL[pd.notnull(SHOPPES_COTAICENTRAL['lat'])]"
   ]
  },
  {
   "cell_type": "code",
   "execution_count": 7,
   "metadata": {
    "scrolled": true
   },
   "outputs": [
    {
     "data": {
      "text/html": [
       "<div>\n",
       "<style>\n",
       "    .dataframe thead tr:only-child th {\n",
       "        text-align: right;\n",
       "    }\n",
       "\n",
       "    .dataframe thead th {\n",
       "        text-align: left;\n",
       "    }\n",
       "\n",
       "    .dataframe tbody tr th {\n",
       "        vertical-align: top;\n",
       "    }\n",
       "</style>\n",
       "<table border=\"1\" class=\"dataframe\">\n",
       "  <thead>\n",
       "    <tr style=\"text-align: right;\">\n",
       "      <th></th>\n",
       "      <th>date</th>\n",
       "      <th>MMSI</th>\n",
       "      <th>name</th>\n",
       "      <th>hdg</th>\n",
       "      <th>lng</th>\n",
       "      <th>lat</th>\n",
       "      <th>sog</th>\n",
       "      <th>cog</th>\n",
       "    </tr>\n",
       "  </thead>\n",
       "  <tbody>\n",
       "    <tr>\n",
       "      <th>345065</th>\n",
       "      <td>2017-10-10T10:34:37.0Z</td>\n",
       "      <td>477937500</td>\n",
       "      <td>SHOPPES COTAICENTRAL</td>\n",
       "      <td>264.0</td>\n",
       "      <td>113.974397</td>\n",
       "      <td>22.351003</td>\n",
       "      <td>39.000000</td>\n",
       "      <td>263.899994</td>\n",
       "    </tr>\n",
       "    <tr>\n",
       "      <th>345094</th>\n",
       "      <td>2017-10-10T10:34:44.0Z</td>\n",
       "      <td>477937500</td>\n",
       "      <td>SHOPPES COTAICENTRAL</td>\n",
       "      <td>263.0</td>\n",
       "      <td>113.973173</td>\n",
       "      <td>22.350913</td>\n",
       "      <td>39.000000</td>\n",
       "      <td>265.000000</td>\n",
       "    </tr>\n",
       "    <tr>\n",
       "      <th>345121</th>\n",
       "      <td>2017-10-10T10:34:48.0Z</td>\n",
       "      <td>477937500</td>\n",
       "      <td>SHOPPES COTAICENTRAL</td>\n",
       "      <td>263.0</td>\n",
       "      <td>113.972413</td>\n",
       "      <td>22.350857</td>\n",
       "      <td>39.099998</td>\n",
       "      <td>265.200012</td>\n",
       "    </tr>\n",
       "    <tr>\n",
       "      <th>345136</th>\n",
       "      <td>2017-10-10T10:34:51.0Z</td>\n",
       "      <td>477937500</td>\n",
       "      <td>SHOPPES COTAICENTRAL</td>\n",
       "      <td>262.0</td>\n",
       "      <td>113.971628</td>\n",
       "      <td>22.350790</td>\n",
       "      <td>39.099998</td>\n",
       "      <td>265.000000</td>\n",
       "    </tr>\n",
       "    <tr>\n",
       "      <th>345157</th>\n",
       "      <td>2017-10-10T10:34:55.0Z</td>\n",
       "      <td>477937500</td>\n",
       "      <td>SHOPPES COTAICENTRAL</td>\n",
       "      <td>261.0</td>\n",
       "      <td>113.970883</td>\n",
       "      <td>22.350722</td>\n",
       "      <td>39.200001</td>\n",
       "      <td>264.799988</td>\n",
       "    </tr>\n",
       "  </tbody>\n",
       "</table>\n",
       "</div>"
      ],
      "text/plain": [
       "                          date       MMSI                  name    hdg  \\\n",
       "345065  2017-10-10T10:34:37.0Z  477937500  SHOPPES COTAICENTRAL  264.0   \n",
       "345094  2017-10-10T10:34:44.0Z  477937500  SHOPPES COTAICENTRAL  263.0   \n",
       "345121  2017-10-10T10:34:48.0Z  477937500  SHOPPES COTAICENTRAL  263.0   \n",
       "345136  2017-10-10T10:34:51.0Z  477937500  SHOPPES COTAICENTRAL  262.0   \n",
       "345157  2017-10-10T10:34:55.0Z  477937500  SHOPPES COTAICENTRAL  261.0   \n",
       "\n",
       "               lng        lat        sog         cog  \n",
       "345065  113.974397  22.351003  39.000000  263.899994  \n",
       "345094  113.973173  22.350913  39.000000  265.000000  \n",
       "345121  113.972413  22.350857  39.099998  265.200012  \n",
       "345136  113.971628  22.350790  39.099998  265.000000  \n",
       "345157  113.970883  22.350722  39.200001  264.799988  "
      ]
     },
     "execution_count": 7,
     "metadata": {},
     "output_type": "execute_result"
    }
   ],
   "source": [
    "#have a look at the data to check whether NA has been dropped\n",
    "SHOPPES_COTAICENTRAL.head()"
   ]
  },
  {
   "cell_type": "code",
   "execution_count": 8,
   "metadata": {
    "collapsed": true
   },
   "outputs": [],
   "source": [
    "#get the earliest relevant time\n",
    "begin = SHOPPES_COTAICENTRAL.iloc[0,0]"
   ]
  },
  {
   "cell_type": "code",
   "execution_count": 9,
   "metadata": {},
   "outputs": [
    {
     "data": {
      "text/plain": [
       "'2017-10-10T10:34:37.0Z'"
      ]
     },
     "execution_count": 9,
     "metadata": {},
     "output_type": "execute_result"
    }
   ],
   "source": [
    "begin"
   ]
  },
  {
   "cell_type": "code",
   "execution_count": 10,
   "metadata": {
    "collapsed": true
   },
   "outputs": [],
   "source": [
    "#get the latest relevant time\n",
    "end = SHOPPES_COTAICENTRAL.iloc[382,0]"
   ]
  },
  {
   "cell_type": "code",
   "execution_count": 11,
   "metadata": {},
   "outputs": [
    {
     "data": {
      "text/plain": [
       "'2017-10-10T11:36:21.0Z'"
      ]
     },
     "execution_count": 11,
     "metadata": {},
     "output_type": "execute_result"
    }
   ],
   "source": [
    "end"
   ]
  },
  {
   "cell_type": "code",
   "execution_count": 12,
   "metadata": {
    "collapsed": true
   },
   "outputs": [],
   "source": [
    "#filter out all ships between the earlies relevant time and latest relevant time\n",
    "ships_between_beginEnd = AIS[(AIS['date'] >= begin) & (AIS['date']<= end )]"
   ]
  },
  {
   "cell_type": "code",
   "execution_count": 13,
   "metadata": {
    "scrolled": true
   },
   "outputs": [
    {
     "data": {
      "text/html": [
       "<div>\n",
       "<style>\n",
       "    .dataframe thead tr:only-child th {\n",
       "        text-align: right;\n",
       "    }\n",
       "\n",
       "    .dataframe thead th {\n",
       "        text-align: left;\n",
       "    }\n",
       "\n",
       "    .dataframe tbody tr th {\n",
       "        vertical-align: top;\n",
       "    }\n",
       "</style>\n",
       "<table border=\"1\" class=\"dataframe\">\n",
       "  <thead>\n",
       "    <tr style=\"text-align: right;\">\n",
       "      <th></th>\n",
       "      <th>date</th>\n",
       "      <th>MMSI</th>\n",
       "      <th>name</th>\n",
       "      <th>hdg</th>\n",
       "      <th>lng</th>\n",
       "      <th>lat</th>\n",
       "      <th>sog</th>\n",
       "      <th>cog</th>\n",
       "    </tr>\n",
       "  </thead>\n",
       "  <tbody>\n",
       "    <tr>\n",
       "      <th>345063</th>\n",
       "      <td>2017-10-10T10:34:37.0Z</td>\n",
       "      <td>477995654</td>\n",
       "      <td>PLEASURE TIME 2</td>\n",
       "      <td>NaN</td>\n",
       "      <td>113.930800</td>\n",
       "      <td>22.338293</td>\n",
       "      <td>10.200000</td>\n",
       "      <td>45.799999</td>\n",
       "    </tr>\n",
       "    <tr>\n",
       "      <th>345064</th>\n",
       "      <td>2017-10-10T10:34:37.0Z</td>\n",
       "      <td>413906934</td>\n",
       "      <td>YUEHUIZHOUHUO168</td>\n",
       "      <td>NaN</td>\n",
       "      <td>113.887547</td>\n",
       "      <td>22.321875</td>\n",
       "      <td>0.000000</td>\n",
       "      <td>NaN</td>\n",
       "    </tr>\n",
       "    <tr>\n",
       "      <th>345065</th>\n",
       "      <td>2017-10-10T10:34:37.0Z</td>\n",
       "      <td>477937500</td>\n",
       "      <td>SHOPPES COTAICENTRAL</td>\n",
       "      <td>264.0</td>\n",
       "      <td>113.974397</td>\n",
       "      <td>22.351003</td>\n",
       "      <td>39.000000</td>\n",
       "      <td>263.899994</td>\n",
       "    </tr>\n",
       "    <tr>\n",
       "      <th>345066</th>\n",
       "      <td>2017-10-10T10:34:38.0Z</td>\n",
       "      <td>412882000</td>\n",
       "      <td>SHUN JING</td>\n",
       "      <td>NaN</td>\n",
       "      <td>113.926658</td>\n",
       "      <td>22.360805</td>\n",
       "      <td>28.799999</td>\n",
       "      <td>301.799988</td>\n",
       "    </tr>\n",
       "    <tr>\n",
       "      <th>345067</th>\n",
       "      <td>2017-10-10T10:34:38.0Z</td>\n",
       "      <td>477995816</td>\n",
       "      <td>NEW SUN</td>\n",
       "      <td>NaN</td>\n",
       "      <td>113.910410</td>\n",
       "      <td>22.332953</td>\n",
       "      <td>0.000000</td>\n",
       "      <td>216.800003</td>\n",
       "    </tr>\n",
       "  </tbody>\n",
       "</table>\n",
       "</div>"
      ],
      "text/plain": [
       "                          date       MMSI                  name    hdg  \\\n",
       "345063  2017-10-10T10:34:37.0Z  477995654       PLEASURE TIME 2    NaN   \n",
       "345064  2017-10-10T10:34:37.0Z  413906934  YUEHUIZHOUHUO168        NaN   \n",
       "345065  2017-10-10T10:34:37.0Z  477937500  SHOPPES COTAICENTRAL  264.0   \n",
       "345066  2017-10-10T10:34:38.0Z  412882000  SHUN JING               NaN   \n",
       "345067  2017-10-10T10:34:38.0Z  477995816               NEW SUN    NaN   \n",
       "\n",
       "               lng        lat        sog         cog  \n",
       "345063  113.930800  22.338293  10.200000   45.799999  \n",
       "345064  113.887547  22.321875   0.000000         NaN  \n",
       "345065  113.974397  22.351003  39.000000  263.899994  \n",
       "345066  113.926658  22.360805  28.799999  301.799988  \n",
       "345067  113.910410  22.332953   0.000000  216.800003  "
      ]
     },
     "execution_count": 13,
     "metadata": {},
     "output_type": "execute_result"
    }
   ],
   "source": [
    "#have a look on all the ships' data with the above timeframe\n",
    "ships_between_beginEnd.head()"
   ]
  },
  {
   "cell_type": "code",
   "execution_count": 14,
   "metadata": {
    "collapsed": true
   },
   "outputs": [],
   "source": [
    "#drop rows with no lat value\n",
    "ships_between_beginEnd_filtered = ships_between_beginEnd[pd.notnull(ships_between_beginEnd['lat'])]"
   ]
  },
  {
   "cell_type": "code",
   "execution_count": 15,
   "metadata": {
    "scrolled": true
   },
   "outputs": [
    {
     "data": {
      "text/html": [
       "<div>\n",
       "<style>\n",
       "    .dataframe thead tr:only-child th {\n",
       "        text-align: right;\n",
       "    }\n",
       "\n",
       "    .dataframe thead th {\n",
       "        text-align: left;\n",
       "    }\n",
       "\n",
       "    .dataframe tbody tr th {\n",
       "        vertical-align: top;\n",
       "    }\n",
       "</style>\n",
       "<table border=\"1\" class=\"dataframe\">\n",
       "  <thead>\n",
       "    <tr style=\"text-align: right;\">\n",
       "      <th></th>\n",
       "      <th>date</th>\n",
       "      <th>MMSI</th>\n",
       "      <th>name</th>\n",
       "      <th>hdg</th>\n",
       "      <th>lng</th>\n",
       "      <th>lat</th>\n",
       "      <th>sog</th>\n",
       "      <th>cog</th>\n",
       "    </tr>\n",
       "  </thead>\n",
       "  <tbody>\n",
       "    <tr>\n",
       "      <th>345063</th>\n",
       "      <td>2017-10-10T10:34:37.0Z</td>\n",
       "      <td>477995654</td>\n",
       "      <td>PLEASURE TIME 2</td>\n",
       "      <td>NaN</td>\n",
       "      <td>113.930800</td>\n",
       "      <td>22.338293</td>\n",
       "      <td>10.200000</td>\n",
       "      <td>45.799999</td>\n",
       "    </tr>\n",
       "    <tr>\n",
       "      <th>345064</th>\n",
       "      <td>2017-10-10T10:34:37.0Z</td>\n",
       "      <td>413906934</td>\n",
       "      <td>YUEHUIZHOUHUO168</td>\n",
       "      <td>NaN</td>\n",
       "      <td>113.887547</td>\n",
       "      <td>22.321875</td>\n",
       "      <td>0.000000</td>\n",
       "      <td>NaN</td>\n",
       "    </tr>\n",
       "    <tr>\n",
       "      <th>345065</th>\n",
       "      <td>2017-10-10T10:34:37.0Z</td>\n",
       "      <td>477937500</td>\n",
       "      <td>SHOPPES COTAICENTRAL</td>\n",
       "      <td>264.0</td>\n",
       "      <td>113.974397</td>\n",
       "      <td>22.351003</td>\n",
       "      <td>39.000000</td>\n",
       "      <td>263.899994</td>\n",
       "    </tr>\n",
       "    <tr>\n",
       "      <th>345066</th>\n",
       "      <td>2017-10-10T10:34:38.0Z</td>\n",
       "      <td>412882000</td>\n",
       "      <td>SHUN JING</td>\n",
       "      <td>NaN</td>\n",
       "      <td>113.926658</td>\n",
       "      <td>22.360805</td>\n",
       "      <td>28.799999</td>\n",
       "      <td>301.799988</td>\n",
       "    </tr>\n",
       "    <tr>\n",
       "      <th>345067</th>\n",
       "      <td>2017-10-10T10:34:38.0Z</td>\n",
       "      <td>477995816</td>\n",
       "      <td>NEW SUN</td>\n",
       "      <td>NaN</td>\n",
       "      <td>113.910410</td>\n",
       "      <td>22.332953</td>\n",
       "      <td>0.000000</td>\n",
       "      <td>216.800003</td>\n",
       "    </tr>\n",
       "  </tbody>\n",
       "</table>\n",
       "</div>"
      ],
      "text/plain": [
       "                          date       MMSI                  name    hdg  \\\n",
       "345063  2017-10-10T10:34:37.0Z  477995654       PLEASURE TIME 2    NaN   \n",
       "345064  2017-10-10T10:34:37.0Z  413906934  YUEHUIZHOUHUO168        NaN   \n",
       "345065  2017-10-10T10:34:37.0Z  477937500  SHOPPES COTAICENTRAL  264.0   \n",
       "345066  2017-10-10T10:34:38.0Z  412882000  SHUN JING               NaN   \n",
       "345067  2017-10-10T10:34:38.0Z  477995816               NEW SUN    NaN   \n",
       "\n",
       "               lng        lat        sog         cog  \n",
       "345063  113.930800  22.338293  10.200000   45.799999  \n",
       "345064  113.887547  22.321875   0.000000         NaN  \n",
       "345065  113.974397  22.351003  39.000000  263.899994  \n",
       "345066  113.926658  22.360805  28.799999  301.799988  \n",
       "345067  113.910410  22.332953   0.000000  216.800003  "
      ]
     },
     "execution_count": 15,
     "metadata": {},
     "output_type": "execute_result"
    }
   ],
   "source": [
    "#check whether Na has dropped\n",
    "ships_between_beginEnd_filtered.head()"
   ]
  },
  {
   "cell_type": "markdown",
   "metadata": {
    "collapsed": true
   },
   "source": [
    "## Filter relevant area of concern\n",
    "\n",
    "There are still 11907 rows of data after filtering the time. We need to further narrow down our search to the relevant space.\n",
    "\n",
    "I have defined the polygon boundary for other cases before. So I just reuse them. If it is too complicated, it is OK to define a rectangle instead of polygon boundary."
   ]
  },
  {
   "cell_type": "code",
   "execution_count": 16,
   "metadata": {
    "collapsed": true
   },
   "outputs": [],
   "source": [
    "#a function to calculate slope and intercept given two points\n",
    "def slope_intercept (point_1, point_2):\n",
    "    try:\n",
    "        slope = (point_1[0] - point_2[0])/(point_1[1] - point_2[1])\n",
    "        intercept = point_1[0] - slope * point_1[1]\n",
    "    except:\n",
    "        slope = \"infinite\"\n",
    "        intercept = \"infinite\"\n",
    "    \n",
    "    return slope, intercept"
   ]
  },
  {
   "cell_type": "markdown",
   "metadata": {},
   "source": [
    "First we define 7 points by LAT and LON. We,then,defined 8 boundary (Which is more than 6, please refer to reference figure for explanation). We, then, use the ineqaulity equation, to define whether a ship has not entered the zone."
   ]
  },
  {
   "cell_type": "code",
   "execution_count": 17,
   "metadata": {
    "collapsed": true
   },
   "outputs": [],
   "source": [
    " #define boundary line\n",
    "A = (22.37751667 , 113.9022667) #LAT (Y), LON (X)\n",
    "B = (22.37335 , 113.9022667)\n",
    "C = (22.37335 , 113.8982667)\n",
    "D = (22.38998333 , 113.8850833)\n",
    "E = (22.38996667 , 113.8691167)\n",
    "F = (22.39665 , 113.8691167)\n",
    "G = (22.39668333 , 113.8883333)\n",
    "\n",
    "def B_1 (LAT, LON): #becoz it is vertical or nearly vertical, we have three cases\n",
    "    slope, intercept = slope_intercept(F, E)\n",
    "    if slope == \"infinite\":\n",
    "        if LON > F[1]:\n",
    "            return True\n",
    "    elif slope > 0:\n",
    "        if LAT - slope * LON - intercept < 0:\n",
    "            return True\n",
    "    elif slope < 0:\n",
    "        if LAT - slope * LON - intercept > 0:\n",
    "            return True\n",
    "\n",
    "def B_2 (LAT, LON):\n",
    "    slope, intercept = slope_intercept(F, G) #becoz it is nearly a horizontal line. slope doesnt matter\n",
    "    if LAT - slope * LON - intercept > 0:\n",
    "        return True\n",
    "\n",
    "def B_3_left (LAT): #it is a vertical line\n",
    "    if  LAT  < G[1]:\n",
    "        return True\n",
    "\n",
    "def B_3_right (LAT): #it is a vertical line\n",
    "    if  LAT  > G[1]:\n",
    "        return True\n",
    "\n",
    "def B_4 (LAT, LON): #becoz it is nearly a horizontal line. slope doesnt matter\n",
    "    slope, intercept = slope_intercept(C, B)\n",
    "    if LAT - slope * LON - intercept > 0:\n",
    "        return True\n",
    "\n",
    "def B_5 (LAT, LON): #becoz it is nearly a horizontal line. slope doesnt matter\n",
    "    slope, intercept = slope_intercept(E, D)\n",
    "    if LAT - slope * LON - intercept < 0:\n",
    "        return True\n",
    "\n",
    "def B_6 (LAT, LON): #it is clearly a negative slope line\n",
    "    slope, intercept = slope_intercept(D, C)\n",
    "    if LAT - slope * LON - intercept < 0:\n",
    "        return True\n",
    "\n",
    "def B_7 (LAT, LON): #becoz it is vertical or nearly vertical, we have three cases\n",
    "    slope, intercept = slope_intercept(A, B)\n",
    "    if slope == \"infinite\":\n",
    "        if LON > A[1]:\n",
    "            return True\n",
    "    elif slope > 0:\n",
    "        if LAT - slope * LON - intercept < 0:\n",
    "            return True\n",
    "    elif slope < 0:\n",
    "        if LAT - slope * LON - intercept > 0:\n",
    "            return True\n",
    "\n",
    "def B_8 (LAT, LON): #clearly have negative slope\n",
    "    slope, intercept = slope_intercept(A, G) \n",
    "    if LAT - slope * LON - intercept > 0:\n",
    "        return True"
   ]
  },
  {
   "cell_type": "code",
   "execution_count": 18,
   "metadata": {
    "collapsed": true
   },
   "outputs": [],
   "source": [
    "#defined not traveling through the zone\n",
    "def check_devaiation_notInZone(LAT, LON):\n",
    "\n",
    "    #initialize boundary value and deviation value as false\n",
    "    B1 = False\n",
    "    B2 = False\n",
    "    B3_left = False\n",
    "    B3_right = False\n",
    "    B4 = False\n",
    "    B5 = False\n",
    "    B6 = False\n",
    "    B7 = False\n",
    "    B8 = False\n",
    "    deviation = False\n",
    "    \n",
    "    #check passing boundary line\n",
    "    B1 = B_1 (LAT, LON)\n",
    "        \n",
    "    B2 = B_2 (LAT, LON)\n",
    "        \n",
    "    B3_left = B_3_left (LON)\n",
    "\n",
    "    B3_right = B_3_right (LON)\n",
    "\n",
    "    B4 = B_4 (LAT, LON)\n",
    "        \n",
    "    B5 = B_5 (LAT, LON)\n",
    "        \n",
    "    B6 = B_6 (LAT, LON)\n",
    "        \n",
    "    B7 = B_7 (LAT, LON)\n",
    "        \n",
    "    B8 = B_8 (LAT, LON)\n",
    "    \n",
    "    #check deviation\n",
    "    if B1 == True and B2 == True and B3_left == True: #deviation in area 1\n",
    "        deviation = True\n",
    "\n",
    "    if B1 == True and B4 == True and B5 == True and B6 == True: #deviation in area 2\n",
    "        deviation = True\n",
    "\n",
    "    if B3_right == True and B4 == True: #deviation in area 3\n",
    "        if B7 == True or B8 == True:\n",
    "            deviation = True\n",
    "    \n",
    "    return deviation\n"
   ]
  },
  {
   "cell_type": "code",
   "execution_count": 19,
   "metadata": {
    "collapsed": true
   },
   "outputs": [],
   "source": [
    "#define enter the SCZ\n",
    "def enteredZone (LAT, LON):\n",
    "    B1 = False\n",
    "    B4 = False\n",
    "    \n",
    "    #check passing boundary line\n",
    "    B1 = B_1 (LAT, LON)\n",
    "\n",
    "    B4 = B_4 (LAT, LON)\n",
    "        \n",
    "    \n",
    "    if B1 == True  and B4 == True and check_devaiation_notInZone(LAT, LON) == False:\n",
    "        return True\n",
    "    else:\n",
    "        return False"
   ]
  },
  {
   "cell_type": "markdown",
   "metadata": {},
   "source": [
    "### Filter all ships that have entered the SCZ"
   ]
  },
  {
   "cell_type": "code",
   "execution_count": 20,
   "metadata": {},
   "outputs": [
    {
     "name": "stderr",
     "output_type": "stream",
     "text": [
      "C:\\Users\\CHA82870\\AppData\\Local\\Continuum\\Anaconda3\\lib\\site-packages\\ipykernel_launcher.py:1: SettingWithCopyWarning: \n",
      "A value is trying to be set on a copy of a slice from a DataFrame.\n",
      "Try using .loc[row_indexer,col_indexer] = value instead\n",
      "\n",
      "See the caveats in the documentation: http://pandas.pydata.org/pandas-docs/stable/indexing.html#indexing-view-versus-copy\n",
      "  \"\"\"Entry point for launching an IPython kernel.\n"
     ]
    }
   ],
   "source": [
    "ships_between_beginEnd_filtered['enteredZone'] = ships_between_beginEnd_filtered.apply(lambda row: enteredZone(row['lat'], row['lng']), axis = 1)"
   ]
  },
  {
   "cell_type": "code",
   "execution_count": 21,
   "metadata": {},
   "outputs": [],
   "source": [
    "FinalData = ships_between_beginEnd_filtered[ships_between_beginEnd_filtered['enteredZone'] == True]"
   ]
  },
  {
   "cell_type": "code",
   "execution_count": 22,
   "metadata": {
    "scrolled": true
   },
   "outputs": [
    {
     "data": {
      "text/html": [
       "<div>\n",
       "<style>\n",
       "    .dataframe thead tr:only-child th {\n",
       "        text-align: right;\n",
       "    }\n",
       "\n",
       "    .dataframe thead th {\n",
       "        text-align: left;\n",
       "    }\n",
       "\n",
       "    .dataframe tbody tr th {\n",
       "        vertical-align: top;\n",
       "    }\n",
       "</style>\n",
       "<table border=\"1\" class=\"dataframe\">\n",
       "  <thead>\n",
       "    <tr style=\"text-align: right;\">\n",
       "      <th></th>\n",
       "      <th>date</th>\n",
       "      <th>MMSI</th>\n",
       "      <th>name</th>\n",
       "      <th>hdg</th>\n",
       "      <th>lng</th>\n",
       "      <th>lat</th>\n",
       "      <th>sog</th>\n",
       "      <th>cog</th>\n",
       "      <th>enteredZone</th>\n",
       "    </tr>\n",
       "  </thead>\n",
       "  <tbody>\n",
       "    <tr>\n",
       "      <th>346382</th>\n",
       "      <td>2017-10-10T10:38:50.0Z</td>\n",
       "      <td>412882000</td>\n",
       "      <td>SHUN JING</td>\n",
       "      <td>NaN</td>\n",
       "      <td>113.898748</td>\n",
       "      <td>22.381967</td>\n",
       "      <td>28.799999</td>\n",
       "      <td>314.299988</td>\n",
       "      <td>True</td>\n",
       "    </tr>\n",
       "    <tr>\n",
       "      <th>346428</th>\n",
       "      <td>2017-10-10T10:38:59.0Z</td>\n",
       "      <td>412882000</td>\n",
       "      <td>SHUN JING</td>\n",
       "      <td>NaN</td>\n",
       "      <td>113.897922</td>\n",
       "      <td>22.382718</td>\n",
       "      <td>28.799999</td>\n",
       "      <td>314.799988</td>\n",
       "      <td>True</td>\n",
       "    </tr>\n",
       "    <tr>\n",
       "      <th>346441</th>\n",
       "      <td>2017-10-10T10:39:02.0Z</td>\n",
       "      <td>412882000</td>\n",
       "      <td>SHUN JING</td>\n",
       "      <td>NaN</td>\n",
       "      <td>113.897725</td>\n",
       "      <td>22.382908</td>\n",
       "      <td>28.700001</td>\n",
       "      <td>315.100006</td>\n",
       "      <td>True</td>\n",
       "    </tr>\n",
       "    <tr>\n",
       "      <th>346451</th>\n",
       "      <td>2017-10-10T10:39:03.0Z</td>\n",
       "      <td>412882000</td>\n",
       "      <td>SHUN JING</td>\n",
       "      <td>NaN</td>\n",
       "      <td>113.897530</td>\n",
       "      <td>22.383095</td>\n",
       "      <td>28.700001</td>\n",
       "      <td>315.500000</td>\n",
       "      <td>True</td>\n",
       "    </tr>\n",
       "    <tr>\n",
       "      <th>346469</th>\n",
       "      <td>2017-10-10T10:39:06.0Z</td>\n",
       "      <td>412882000</td>\n",
       "      <td>SHUN JING</td>\n",
       "      <td>NaN</td>\n",
       "      <td>113.897130</td>\n",
       "      <td>22.383480</td>\n",
       "      <td>28.700001</td>\n",
       "      <td>315.399994</td>\n",
       "      <td>True</td>\n",
       "    </tr>\n",
       "  </tbody>\n",
       "</table>\n",
       "</div>"
      ],
      "text/plain": [
       "                          date       MMSI                  name  hdg  \\\n",
       "346382  2017-10-10T10:38:50.0Z  412882000  SHUN JING             NaN   \n",
       "346428  2017-10-10T10:38:59.0Z  412882000  SHUN JING             NaN   \n",
       "346441  2017-10-10T10:39:02.0Z  412882000  SHUN JING             NaN   \n",
       "346451  2017-10-10T10:39:03.0Z  412882000  SHUN JING             NaN   \n",
       "346469  2017-10-10T10:39:06.0Z  412882000  SHUN JING             NaN   \n",
       "\n",
       "               lng        lat        sog         cog  enteredZone  \n",
       "346382  113.898748  22.381967  28.799999  314.299988         True  \n",
       "346428  113.897922  22.382718  28.799999  314.799988         True  \n",
       "346441  113.897725  22.382908  28.700001  315.100006         True  \n",
       "346451  113.897530  22.383095  28.700001  315.500000         True  \n",
       "346469  113.897130  22.383480  28.700001  315.399994         True  "
      ]
     },
     "execution_count": 22,
     "metadata": {},
     "output_type": "execute_result"
    }
   ],
   "source": [
    "FinalData.head()"
   ]
  },
  {
   "cell_type": "markdown",
   "metadata": {},
   "source": [
    "### Now we only have 291 rows of data. We got 11907 before filtering space"
   ]
  },
  {
   "cell_type": "code",
   "execution_count": 23,
   "metadata": {},
   "outputs": [],
   "source": [
    "#list out the name of ships entered the SCZ\n",
    "name = FinalData.name.unique()"
   ]
  },
  {
   "cell_type": "code",
   "execution_count": 24,
   "metadata": {},
   "outputs": [
    {
     "data": {
      "text/plain": [
       "array(['SHUN JING           ', nan, 'JIN ZHU HU          ',\n",
       "       'SHOPPES COTAICENTRAL', 'OOCL GUANGZHOU', 'KMTC ULSAN          ',\n",
       "       'YIU LIAN 6', 'PILOT11             ', 'PILOT10             '], dtype=object)"
      ]
     },
     "execution_count": 24,
     "metadata": {},
     "output_type": "execute_result"
    }
   ],
   "source": [
    "name"
   ]
  },
  {
   "cell_type": "markdown",
   "metadata": {},
   "source": [
    "### I am getting data for a particular ship"
   ]
  },
  {
   "cell_type": "code",
   "execution_count": 25,
   "metadata": {
    "collapsed": true
   },
   "outputs": [],
   "source": [
    "shun_jing = FinalData[FinalData['name'] == 'SHUN JING           ']"
   ]
  },
  {
   "cell_type": "code",
   "execution_count": 26,
   "metadata": {
    "collapsed": true
   },
   "outputs": [],
   "source": [
    "jin_zhu_hu = FinalData[FinalData['name'] == 'JIN ZHU HU          ']"
   ]
  },
  {
   "cell_type": "code",
   "execution_count": 27,
   "metadata": {
    "collapsed": true
   },
   "outputs": [],
   "source": [
    "SHOPPES_COTAICENTRAL = FinalData[FinalData['name'] == 'SHOPPES COTAICENTRAL']"
   ]
  },
  {
   "cell_type": "code",
   "execution_count": 28,
   "metadata": {},
   "outputs": [],
   "source": [
    "OOCL_GUANGZHOU = FinalData[FinalData['name'] == 'OOCL GUANGZHOU']"
   ]
  },
  {
   "cell_type": "code",
   "execution_count": 29,
   "metadata": {
    "collapsed": true
   },
   "outputs": [],
   "source": [
    "KMTC_ULSAN = FinalData[FinalData['name'] == 'KMTC ULSAN          ']"
   ]
  },
  {
   "cell_type": "code",
   "execution_count": 30,
   "metadata": {
    "collapsed": true
   },
   "outputs": [],
   "source": [
    "YIU_LIAN_6 = FinalData[FinalData['name'] == 'YIU LIAN 6']"
   ]
  },
  {
   "cell_type": "code",
   "execution_count": 31,
   "metadata": {},
   "outputs": [],
   "source": [
    "pilot11 = FinalData[FinalData['name'] == 'PILOT11             ']"
   ]
  },
  {
   "cell_type": "code",
   "execution_count": 32,
   "metadata": {
    "collapsed": true
   },
   "outputs": [],
   "source": [
    "pilot10 = FinalData[FinalData['name'] == 'PILOT10             ']"
   ]
  },
  {
   "cell_type": "code",
   "execution_count": 33,
   "metadata": {},
   "outputs": [
    {
     "data": {
      "text/plain": [
       "<matplotlib.legend.Legend at 0xb10c9b0>"
      ]
     },
     "execution_count": 33,
     "metadata": {},
     "output_type": "execute_result"
    }
   ],
   "source": [
    "plt.scatter(shun_jing['lng'],shun_jing['lat'], label = 'shun_jing')\n",
    "plt.scatter(jin_zhu_hu['lng'],jin_zhu_hu['lat'], label = 'jin_zhu_hu')\n",
    "plt.scatter(OOCL_GUANGZHOU['lng'],OOCL_GUANGZHOU['lat'], label = 'OOCL_GuangZhou')\n",
    "plt.scatter(KMTC_ULSAN['lng'],KMTC_ULSAN['lat'], label = 'KMTC_ULSCAN')\n",
    "plt.scatter(YIU_LIAN_6['lng'],YIU_LIAN_6['lat'], label = 'Yiu_Lian_6')\n",
    "plt.scatter(SHOPPES_COTAICENTRAL['lng'],SHOPPES_COTAICENTRAL['lat'], label = 'SHOPPES_COTAICENTRAL')\n",
    "plt.xlabel('lng')\n",
    "plt.ylabel('lat')\n",
    "plt.legend()"
   ]
  },
  {
   "cell_type": "markdown",
   "metadata": {},
   "source": [
    "# Analysis\n",
    "\n",
    "The below graph shows that OOCL, Shun Jing, KMTC, Jin Zhu Hu have the potential to intersect with Shoppes Cotai Central"
   ]
  },
  {
   "cell_type": "code",
   "execution_count": 34,
   "metadata": {},
   "outputs": [
    {
     "data": {
      "image/png": "[encoded data removed]",
      "text/plain": [
       "<matplotlib.figure.Figure at 0xaf71400>"
      ]
     },
     "metadata": {},
     "output_type": "display_data"
    }
   ],
   "source": [
    "plt.show()"
   ]
  },
  {
   "cell_type": "markdown",
   "metadata": {},
   "source": [
    "### The above graph shows data within a cetain period of time. It is possible that the intersecting ships occur before or after Shoppes Contai Central passed by. We need to further analysz the data by ploting lng agains time"
   ]
  },
  {
   "cell_type": "code",
   "execution_count": 35,
   "metadata": {},
   "outputs": [],
   "source": [
    "from datetime import datetime\n",
    "from dateutil.parser import parse"
   ]
  },
  {
   "cell_type": "code",
   "execution_count": 36,
   "metadata": {
    "scrolled": true
   },
   "outputs": [
    {
     "name": "stderr",
     "output_type": "stream",
     "text": [
      "C:\\Users\\CHA82870\\AppData\\Local\\Continuum\\Anaconda3\\lib\\site-packages\\ipykernel_launcher.py:2: SettingWithCopyWarning: \n",
      "A value is trying to be set on a copy of a slice from a DataFrame.\n",
      "Try using .loc[row_indexer,col_indexer] = value instead\n",
      "\n",
      "See the caveats in the documentation: http://pandas.pydata.org/pandas-docs/stable/indexing.html#indexing-view-versus-copy\n",
      "  \n",
      "C:\\Users\\CHA82870\\AppData\\Local\\Continuum\\Anaconda3\\lib\\site-packages\\ipykernel_launcher.py:3: SettingWithCopyWarning: \n",
      "A value is trying to be set on a copy of a slice from a DataFrame.\n",
      "Try using .loc[row_indexer,col_indexer] = value instead\n",
      "\n",
      "See the caveats in the documentation: http://pandas.pydata.org/pandas-docs/stable/indexing.html#indexing-view-versus-copy\n",
      "  This is separate from the ipykernel package so we can avoid doing imports until\n",
      "C:\\Users\\CHA82870\\AppData\\Local\\Continuum\\Anaconda3\\lib\\site-packages\\ipykernel_launcher.py:4: SettingWithCopyWarning: \n",
      "A value is trying to be set on a copy of a slice from a DataFrame.\n",
      "Try using .loc[row_indexer,col_indexer] = value instead\n",
      "\n",
      "See the caveats in the documentation: http://pandas.pydata.org/pandas-docs/stable/indexing.html#indexing-view-versus-copy\n",
      "  after removing the cwd from sys.path.\n",
      "C:\\Users\\CHA82870\\AppData\\Local\\Continuum\\Anaconda3\\lib\\site-packages\\ipykernel_launcher.py:5: SettingWithCopyWarning: \n",
      "A value is trying to be set on a copy of a slice from a DataFrame.\n",
      "Try using .loc[row_indexer,col_indexer] = value instead\n",
      "\n",
      "See the caveats in the documentation: http://pandas.pydata.org/pandas-docs/stable/indexing.html#indexing-view-versus-copy\n",
      "  \"\"\"\n",
      "C:\\Users\\CHA82870\\AppData\\Local\\Continuum\\Anaconda3\\lib\\site-packages\\ipykernel_launcher.py:6: SettingWithCopyWarning: \n",
      "A value is trying to be set on a copy of a slice from a DataFrame.\n",
      "Try using .loc[row_indexer,col_indexer] = value instead\n",
      "\n",
      "See the caveats in the documentation: http://pandas.pydata.org/pandas-docs/stable/indexing.html#indexing-view-versus-copy\n",
      "  \n",
      "C:\\Users\\CHA82870\\AppData\\Local\\Continuum\\Anaconda3\\lib\\site-packages\\ipykernel_launcher.py:7: SettingWithCopyWarning: \n",
      "A value is trying to be set on a copy of a slice from a DataFrame.\n",
      "Try using .loc[row_indexer,col_indexer] = value instead\n",
      "\n",
      "See the caveats in the documentation: http://pandas.pydata.org/pandas-docs/stable/indexing.html#indexing-view-versus-copy\n",
      "  import sys\n"
     ]
    }
   ],
   "source": [
    "#converting messy date in the original files to correct format\n",
    "shun_jing['datetime'] = pd.to_datetime(shun_jing['date'])\n",
    "jin_zhu_hu['datetime'] = pd.to_datetime(jin_zhu_hu['date'])\n",
    "OOCL_GUANGZHOU['datetime'] = pd.to_datetime(OOCL_GUANGZHOU['date'])\n",
    "KMTC_ULSAN['datetime'] = pd.to_datetime(KMTC_ULSAN['date'])\n",
    "YIU_LIAN_6['datetime'] = pd.to_datetime(YIU_LIAN_6['date'])\n",
    "SHOPPES_COTAICENTRAL['datetime'] = pd.to_datetime(SHOPPES_COTAICENTRAL['date'])\n"
   ]
  },
  {
   "cell_type": "code",
   "execution_count": 37,
   "metadata": {},
   "outputs": [
    {
     "data": {
      "text/plain": [
       "<matplotlib.legend.Legend at 0xb23b7f0>"
      ]
     },
     "execution_count": 37,
     "metadata": {},
     "output_type": "execute_result"
    }
   ],
   "source": [
    "plt.plot(shun_jing['datetime'],shun_jing['lng'], label = 'shun_jing')\n",
    "plt.plot(jin_zhu_hu['datetime'],jin_zhu_hu['lng'], label = 'jin_zhu_hu')\n",
    "plt.plot(OOCL_GUANGZHOU['datetime'],OOCL_GUANGZHOU['lng'], label = 'OOCL_GuangZhou')\n",
    "plt.plot(KMTC_ULSAN['datetime'],KMTC_ULSAN['lng'], label = 'KMTC_ULSCAN')\n",
    "plt.plot(YIU_LIAN_6['datetime'],YIU_LIAN_6['lng'], label = 'Yiu_Lian_6')\n",
    "plt.plot(SHOPPES_COTAICENTRAL['datetime'],SHOPPES_COTAICENTRAL['lng'], label = 'SHOPPES_COTAICENTRAL')\n",
    "plt.xlabel('Time')\n",
    "plt.ylabel('lng')\n",
    "plt.legend()"
   ]
  },
  {
   "cell_type": "markdown",
   "metadata": {},
   "source": [
    "### The below graph shows that OOCL, KMTC, and Yiu did intersect with the course of Shoppes Contai Central from around 10:11:12 to 10:11:32."
   ]
  },
  {
   "cell_type": "code",
   "execution_count": 38,
   "metadata": {},
   "outputs": [
    {
     "data": {
      "image/png": "[encoded data removed]",
      "text/plain": [
       "<matplotlib.figure.Figure at 0xb14eba8>"
      ]
     },
     "metadata": {},
     "output_type": "display_data"
    }
   ],
   "source": [
    "plt.show()"
   ]
  },
  {
   "cell_type": "markdown",
   "metadata": {},
   "source": [
    "## Therefore, captain explanation is accepted."
   ]
  },
  {
   "cell_type": "code",
   "execution_count": null,
   "metadata": {
    "collapsed": true
   },
   "outputs": [],
   "source": []
  }
 ],
 "metadata": {
  "kernelspec": {
   "display_name": "Python 3",
   "language": "python",
   "name": "python3"
  },
  "language_info": {
   "codemirror_mode": {
    "name": "ipython",
    "version": 3
   },
   "file_extension": ".py",
   "mimetype": "text/x-python",
   "name": "python",
   "nbconvert_exporter": "python",
   "pygments_lexer": "ipython3",
   "version": "3.5.3"
  }
 },
 "nbformat": 4,
 "nbformat_minor": 2
}
